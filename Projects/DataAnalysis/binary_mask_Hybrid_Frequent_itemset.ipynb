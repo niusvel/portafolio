{
 "cells": [
  {
   "cell_type": "markdown",
   "id": "367352ae-e6c6-4876-ac6b-bf8e300e8ff1",
   "metadata": {},
   "source": [
    "#### The imports"
   ]
  },
  {
   "cell_type": "code",
   "execution_count": 1,
   "id": "a1155626-a527-40de-b941-f870b5ce1d42",
   "metadata": {},
   "outputs": [],
   "source": [
    "from itertools import chain\n",
    "from collections import defaultdict\n",
    "import time"
   ]
  },
  {
   "cell_type": "markdown",
   "id": "db86ad22-db05-44ef-92e9-0a427e336a89",
   "metadata": {},
   "source": [
    "#### Utils"
   ]
  },
  {
   "cell_type": "code",
   "execution_count": 2,
   "id": "c67ac68c-1f03-4358-8a15-50c1ab585628",
   "metadata": {},
   "outputs": [],
   "source": [
    "def lists_to_binarylists(integer_lists):\n",
    "    max_num = max(chain(*integer_lists))\n",
    "    binary_lists = []\n",
    "    for itemset in integer_lists:\n",
    "        binary = [0] * max_num\n",
    "        for num in itemset:\n",
    "            binary[num-1] = 1\n",
    "        binary_lists.append(binary)\n",
    "    return (binary_lists, max_num)"
   ]
  },
  {
   "cell_type": "code",
   "execution_count": 3,
   "id": "8cd936f4-4eb1-458f-b3e1-f8e3d58b2aeb",
   "metadata": {},
   "outputs": [],
   "source": [
    "def postprocess(freq_itemsets, max_num):\n",
    "    result = {}\n",
    "    for k, v in freq_itemsets.items():\n",
    "        output_dict = {}\n",
    "        for key, value in v.items():\n",
    "            if value not in output_dict:\n",
    "                output_dict[value] = []\n",
    "            binary_list = get_binary_list(key, max_num)\n",
    "            indices = [i+1 for i, x in enumerate(binary_list) if x == 1]\n",
    "            output_dict[value].append(indices)\n",
    "        if len(output_dict) > 0:\n",
    "            result[k] = output_dict\n",
    "    return result"
   ]
  },
  {
   "cell_type": "markdown",
   "id": "208d7df0-7faa-42dc-b0c3-f9810c393fa2",
   "metadata": {},
   "source": [
    "#### Algorithm"
   ]
  },
  {
   "cell_type": "code",
   "execution_count": 4,
   "id": "0c0d1060-34ec-42cf-bb6e-5a9204b7fb14",
   "metadata": {},
   "outputs": [],
   "source": [
    "def get_binary_list(frozenset_number, n):\n",
    "    number = int(list(frozenset_number)[0])\n",
    "    binary_string = bin(number)[2:]  # remove '0b' prefix\n",
    "    binary_list = [int(bit) for bit in binary_string]\n",
    "    binary_list = [0] *(n - len(binary_list)) + binary_list\n",
    "    return binary_list"
   ]
  },
  {
   "cell_type": "code",
   "execution_count": 5,
   "id": "1b895e1c-8cb1-40f2-bd30-5cae8692acda",
   "metadata": {},
   "outputs": [],
   "source": [
    "def get_number(binary_list):\n",
    "    binary_string = ''.join(str(bit) for bit in binary_list)  # convert to string\n",
    "    number = int(binary_string, 2)\n",
    "    return number"
   ]
  },
  {
   "cell_type": "code",
   "execution_count": 6,
   "id": "f298a528-cac4-4705-a649-056914a10fd6",
   "metadata": {},
   "outputs": [],
   "source": [
    "def frequent_mining(key, k, n, transactions, min_support, output_freq_itemsets, output_freq_itemsets_occurrences):\n",
    "    if k > n:\n",
    "        return\n",
    "    \n",
    "    binary_list = get_binary_list(key, n)\n",
    "    last_index_of_1 = n - 1 - list(reversed(binary_list)).index(1)\n",
    "    if last_index_of_1 >= n:\n",
    "        return\n",
    "    \n",
    "    itemset_counts = defaultdict(int)\n",
    "    itemset_occurrences = defaultdict(int)\n",
    "    for i in range(last_index_of_1 +1, n):\n",
    "        template = list(binary_list)\n",
    "        template[i] = 1\n",
    "        decimal_number = get_number(template)\n",
    "        \n",
    "        masked_lists = [[a & b for a, b in zip(itemset, template)] for itemset in transactions]\n",
    "        itemset_counts[decimal_number] = masked_lists.count(template)\n",
    "        itemset_occurrences[decimal_number] = (masked_lists.count(template), [i for i, x in enumerate(masked_lists) if x == template])\n",
    "        \n",
    "        new_key = frozenset([decimal_number])\n",
    "        frequent_mining(new_key, k +1, n, transactions, min_support, output_freq_itemsets, output_freq_itemsets_occurrences)\n",
    "        \n",
    "    if output_freq_itemsets.get(k, None) is not None:\n",
    "        output_freq_itemsets[k].update({frozenset([item]): count for item, count in itemset_counts.items() if count >= min_support})\n",
    "        output_freq_itemsets_occurrences[k].update({frozenset([item]): occ_list for item, (count, occ_list) in itemset_occurrences.items() if count >= min_support})\n",
    "    else:\n",
    "        output_freq_itemsets[k] = {frozenset([item]): count for item, count in itemset_counts.items() if count >= min_support}\n",
    "        output_freq_itemsets_occurrences[k] = {frozenset([item]): occ_list for item, (count, occ_list) in itemset_occurrences.items() if count >= min_support}\n",
    "    "
   ]
  },
  {
   "cell_type": "code",
   "execution_count": 7,
   "id": "ca594e97-15cc-4373-82b1-7d36d9e8626d",
   "metadata": {},
   "outputs": [],
   "source": [
    "def frequent_itemsets(transactions, min_support):\n",
    "    #print(\"Start frequent mining process...\")\n",
    "    itemset_counts = defaultdict(int)\n",
    "    itemset_occurrences = defaultdict(int)\n",
    "    #print(\"Obtaining the 1-frequent items...\")\n",
    "    n = len(transactions[0])\n",
    "    for i in range(n):\n",
    "        template = [0] *n\n",
    "        template[i] = 1\n",
    "        decimal_number = get_number(template)\n",
    "        \n",
    "        masked_lists = [[a & b for a, b in zip(itemset, template)] for itemset in transactions]\n",
    "        itemset_counts[decimal_number] = masked_lists.count(template)\n",
    "        itemset_occurrences[decimal_number] = (masked_lists.count(template), [i for i, x in enumerate(masked_lists) if x == template])\n",
    "    #print(\"1-frequent items done\")\n",
    "\n",
    "    freq_itemsets = dict()\n",
    "    freq_itemsets_occurrences = dict()\n",
    "    freq_itemsets[1] = {frozenset([item]): count for item, count in itemset_counts.items() if count >= min_support}\n",
    "    freq_itemsets_occurrences[1] = {frozenset([item]): occ_list for item, (count, occ_list) in itemset_occurrences.items() if count >= min_support}\n",
    "    #print(freq_itemsets)\n",
    "\n",
    "    for key, item in freq_itemsets[1].items():\n",
    "        frequent_mining(key, 2, n, transactions, min_support, freq_itemsets, freq_itemsets_occurrences)\n",
    "    \n",
    "    #print(\"Done...\")\n",
    "    return (freq_itemsets, freq_itemsets_occurrences)"
   ]
  },
  {
   "cell_type": "markdown",
   "id": "7fbf4292-2946-4659-a0f3-e9c1d5d65433",
   "metadata": {},
   "source": [
    "#### Example usage"
   ]
  },
  {
   "cell_type": "code",
   "execution_count": 8,
   "id": "4bec2da5-d944-4c38-b62f-487f41d92e19",
   "metadata": {},
   "outputs": [
    {
     "name": "stdout",
     "output_type": "stream",
     "text": [
      "Preprocess execution time: 0.0 seconds\n",
      "Settings:\n",
      "\ttransactions: [[1, 1, 1, 0], [0, 1, 1, 1], [1, 1, 0, 1], [1, 0, 1, 1], [0, 1, 1, 0]]\n",
      "\tthreshold: 1\n",
      "Mining execution time: 0.0 seconds\n",
      "Output\n",
      "1 {3: [[1], [4]], 4: [[2], [3]]}\n",
      "3 {1: [[1, 2, 3], [1, 2, 4], [1, 3, 4], [2, 3, 4]]}\n",
      "2 {2: [[1, 2], [1, 3], [1, 4], [2, 4], [3, 4]], 3: [[2, 3]]}\n"
     ]
    }
   ],
   "source": [
    "dataset = [[1, 2, 3], [2, 3, 4], [1, 2, 4], [1, 3, 4], [2, 3]]\n",
    "min_support = 1\n",
    "\n",
    "start_time = time.time()\n",
    "(bDataset, max_num) = lists_to_binarylists(dataset)\n",
    "end_time = time.time()\n",
    "execution_time = end_time - start_time\n",
    "print(\"Preprocess execution time:\", execution_time, \"seconds\")\n",
    "print(\"Settings:\")\n",
    "print(\"\\ttransactions:\", bDataset)\n",
    "print(\"\\tthreshold:\", min_support)\n",
    "\n",
    "start_time = time.time()\n",
    "(freq_itemsets, freq_itemsets_occurrences) = frequent_itemsets(bDataset, min_support)\n",
    "end_time = time.time()\n",
    "execution_time = end_time - start_time\n",
    "print(\"Mining execution time:\", execution_time, \"seconds\")\n",
    "\n",
    "print(\"Output\")\n",
    "output = postprocess(freq_itemsets, max_num)\n",
    "for k, v in output.items():\n",
    "    print(k, v)\n",
    "#print(\"Output\", freq_itemsets)\n",
    "#print(\"Output occurrences\", freq_itemsets_occurrences)\n"
   ]
  },
  {
   "cell_type": "code",
   "execution_count": null,
   "id": "c52095da-7fbf-4cc5-bb1f-321be01055db",
   "metadata": {},
   "outputs": [],
   "source": []
  }
 ],
 "metadata": {
  "kernelspec": {
   "display_name": "Python 3 (ipykernel)",
   "language": "python",
   "name": "python3"
  },
  "language_info": {
   "codemirror_mode": {
    "name": "ipython",
    "version": 3
   },
   "file_extension": ".py",
   "mimetype": "text/x-python",
   "name": "python",
   "nbconvert_exporter": "python",
   "pygments_lexer": "ipython3",
   "version": "3.10.9"
  }
 },
 "nbformat": 4,
 "nbformat_minor": 5
}
